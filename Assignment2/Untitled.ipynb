{
 "cells": [
  {
   "cell_type": "code",
   "execution_count": 1,
   "metadata": {},
   "outputs": [],
   "source": [
    "import glob\n",
    "import os\n",
    "import time\n",
    "import numpy as np\n",
    "import matplotlib as plt\n",
    "import matplotlib.pyplot as pplt"
   ]
  },
  {
   "cell_type": "code",
   "execution_count": 2,
   "metadata": {},
   "outputs": [],
   "source": [
    "information_for_plots=[['relu', 5, 0.9376021893819173, 0.6316666666666667, 21.51600170135498], ['relu', 7, 0.9643837706247965, 0.625, 29.797021865844727], ['relu', 9, 5.9905588213602705, 0.6283333333333333, 50.77164077758789], ['tanh', 5, 0.8998965899149577, 0.63, 22.478302717208862], ['tanh', 7, 1.038945959409078, 0.4741666666666667, 30.887556552886963], ['tanh', 9, 0.9799565728505453, 0.6283333333333333, 51.987958669662476]]"
   ]
  },
  {
   "cell_type": "code",
   "execution_count": 4,
   "metadata": {},
   "outputs": [],
   "source": [
    "activation_fns_plotting = [ifp[0] for ifp in information_for_plots]\n",
    "n_layers_plotting = [ifp[1] for ifp in information_for_plots]\n",
    "losses_plotting = [ifp[2] for ifp in information_for_plots]\n",
    "accuracies_fns_plotting = [ifp[3] for ifp in information_for_plots]\n",
    "runtimes_fns_plotting = [ifp[4] for ifp in information_for_plots]\n",
    "\n",
    "'''\n",
    "    use activation_fn = 'relu' and n_layers = 5 as the controls for each of the panels\n",
    "    ('relu', n_layers = 5, 7, 9), (activation_fn = 'relu',... , n_layers = 5)\n",
    "    '''\n",
    "\n",
    "plt.rc('text', usetex = 1)\n",
    "plt.rc('font', family = 'serif')\n",
    "\n",
    "divider, eps = 3.3, 0.09 #for plotting using fig.add_axes"
   ]
  },
  {
   "cell_type": "code",
   "execution_count": 8,
   "metadata": {},
   "outputs": [
    {
     "data": {
      "image/png": "[encoded data removed]",
      "text/plain": [
       "<Figure size 432x288 with 4 Axes>"
      ]
     },
     "metadata": {
      "needs_background": "light"
     },
     "output_type": "display_data"
    }
   ],
   "source": [
    "fig = pplt.figure()\n",
    "xvals, yvals = [eps, eps+(1-eps)/divider], [eps, eps+(1-eps)/divider]\n",
    "plots = [fig.add_axes([x0, y0, (1-eps)/divider, (1-eps)/divider]) for x0 in xvals for y0 in yvals]\n",
    "\n",
    "for i in range(len(plots)):\n",
    "    ax = plots[i]\n",
    "    ax.tick_params(left = True, bottom = True, right = False, top = False, labelsize = 'small')\n",
    "    if i == 0:\n",
    "        ax.scatter(range(len(accuracies_fns_plotting)), accuracies_fns_plotting)\n",
    "        ax.set_xticklabels(activation_fns_plotting)\n",
    "        ax.set_ylabel(r'$f$(activation function) [%/100]', fontsize = 10)\n",
    "        ax.set_xlabel(r'$f \\equiv$ accuracy', fontsize = 10)\n",
    "        ax.xaxis.set_label_position('top')\n",
    "        if i == 1:\n",
    "            ax.scatter(range(len(accuracies_fns_plotting)), runtimes_fns_plotting)\n",
    "            ax.set_xticklabels(activation_fns_plotting)\n",
    "            ax.set_ylabel(r'$g$(activation function) [s]', fontsize = 10)\n",
    "            ax.set_xlabel(r'$g \\equiv$ runtime', fontsize = 10)\n",
    "            ax.xaxis.set_label_position('top')\n",
    "        if i == 2:\n",
    "            ax.plot(n_layers_plotting, accuracies_fns_plotting)\n",
    "            ax.set_xticks(n_layers_plotting)\n",
    "            ax.set_ylabel(r'$f(N_{layers})$', fontsize = 10)\n",
    "            ax.set_xlabel(r'$N_{layers}$', fontsize = 10)\n",
    "        if i == 3:\n",
    "            ax.plot(n_layers_plotting, runtimes_fns_plotting)\n",
    "            ax.set_xticks(n_layers_fns_plotting)\n",
    "            ax.set_ylabel(r'$g(N_{layers})$', fontsize = 10)\n",
    "            ax.set_xlabel(r'$N_{layers}$', fontsize = 10)\n",
    "            \n",
    "pplt.show()"
   ]
  },
  {
   "cell_type": "code",
   "execution_count": 11,
   "metadata": {},
   "outputs": [
    {
     "ename": "TypeError",
     "evalue": "'module' object is not callable",
     "output_type": "error",
     "traceback": [
      "\u001b[0;31m---------------------------------------------------------------------------\u001b[0m",
      "\u001b[0;31mTypeError\u001b[0m                                 Traceback (most recent call last)",
      "\u001b[0;32m<ipython-input-11-a5be6ae85a9e>\u001b[0m in \u001b[0;36m<module>\u001b[0;34m\u001b[0m\n\u001b[1;32m     15\u001b[0m         \u001b[0mfor_second_plot\u001b[0m\u001b[0;34m.\u001b[0m\u001b[0mappend\u001b[0m\u001b[0;34m(\u001b[0m\u001b[0;34m[\u001b[0m\u001b[0mlabel\u001b[0m\u001b[0;34m,\u001b[0m \u001b[0mf\u001b[0m\u001b[0;34m,\u001b[0m \u001b[0mg\u001b[0m\u001b[0;34m]\u001b[0m\u001b[0;34m)\u001b[0m\u001b[0;34m\u001b[0m\u001b[0m\n\u001b[1;32m     16\u001b[0m \u001b[0;34m\u001b[0m\u001b[0m\n\u001b[0;32m---> 17\u001b[0;31m \u001b[0mfig\u001b[0m \u001b[0;34m=\u001b[0m \u001b[0mplt\u001b[0m\u001b[0;34m.\u001b[0m\u001b[0mfigure\u001b[0m\u001b[0;34m(\u001b[0m\u001b[0;34m)\u001b[0m\u001b[0;34m\u001b[0m\u001b[0m\n\u001b[0m\u001b[1;32m     18\u001b[0m \u001b[0;32mfor\u001b[0m \u001b[0melement\u001b[0m \u001b[0;32min\u001b[0m \u001b[0mfor_second_plot\u001b[0m\u001b[0;34m:\u001b[0m\u001b[0;34m\u001b[0m\u001b[0m\n\u001b[1;32m     19\u001b[0m         \u001b[0mlabel\u001b[0m\u001b[0;34m,\u001b[0m \u001b[0mf\u001b[0m\u001b[0;34m,\u001b[0m \u001b[0mg\u001b[0m \u001b[0;34m=\u001b[0m \u001b[0melement\u001b[0m\u001b[0;34m[\u001b[0m\u001b[0;34m:\u001b[0m\u001b[0;34m]\u001b[0m\u001b[0;34m\u001b[0m\u001b[0m\n",
      "\u001b[0;31mTypeError\u001b[0m: 'module' object is not callable"
     ]
    },
    {
     "data": {
      "text/plain": [
       "<Figure size 432x288 with 0 Axes>"
      ]
     },
     "metadata": {},
     "output_type": "display_data"
    }
   ],
   "source": [
    "plt.rc('text', usetex = True)\n",
    "plt.rc('font', family = 'serif')\n",
    "fig = pplt.figure()\n",
    "\n",
    "for_second_plot, Xs, Ys = [], [], []\n",
    "\n",
    "for ifp in information_for_plots:\n",
    "\tlabel = str(ifp[0]) + ', ' + str(ifp[1])\n",
    "\tf = 1-ifp[3]\n",
    "\tg = ifp[4]\n",
    "\n",
    "\tXs.append(g)\n",
    "\tYs.append(f)\n",
    "\n",
    "\tfor_second_plot.append([label, f, g])\n",
    "\n",
    "fig = pplt.figure()\n",
    "for element in for_second_plot:\n",
    "\tlabel, f, g = element[:]\n",
    "\tplt.scatter(g, f, s = 1, color='k')\n",
    "\tplt.annotate(label, xy = (g, f), xycoords = 'data', color='r', fontsize = 8)\n",
    "\n",
    "plt.annotate('good', xy = (0.05, 0.05), xycoords = 'axes fraction', fontsize = 10)\n",
    "plt.annotate('bad', xy = (0.85, 0.85), xycoords = 'axes fraction', fontsize = 10)\n",
    "plt.xlabel('Runtime [s]', fontsize = 12)\n",
    "plt.xscale('log')\n",
    "plt.yscale('log')\n",
    "plt.ylabel('(1 - Accuracy) [$\\%$/100]', fontsize = 12)\n",
    "plt.title('Evaluating CNN Performance', fontsize = 12)\n",
    "plt.tight_layout()"
   ]
  },
  {
   "cell_type": "code",
   "execution_count": 12,
   "metadata": {},
   "outputs": [
    {
     "data": {
      "text/plain": [
       "<Figure size 432x288 with 0 Axes>"
      ]
     },
     "metadata": {},
     "output_type": "display_data"
    }
   ],
   "source": [
    "plt.rc('text', usetex = True)\n",
    "plt.rc('font', family = 'serif')\n",
    "fig = pplt.figure()\n",
    "\n",
    "for_second_plot, Xs, Ys = [], [], []\n",
    "\n",
    "for ifp in information_for_plots:\n",
    "\tlabel = str(ifp[0]) + ', ' + str(ifp[1])\n",
    "\tf = 1-ifp[3]\n",
    "\tg = ifp[4]\n",
    "\n",
    "\tXs.append(g)\n",
    "\tYs.append(f)\n",
    "\n",
    "\tfor_second_plot.append([label, f, g])"
   ]
  },
  {
   "cell_type": "code",
   "execution_count": 17,
   "metadata": {},
   "outputs": [
    {
     "data": {
      "image/png": "[encoded data removed]",
      "text/plain": [
       "<Figure size 432x288 with 1 Axes>"
      ]
     },
     "metadata": {
      "needs_background": "light"
     },
     "output_type": "display_data"
    }
   ],
   "source": [
    "fig = pplt.figure()\n",
    "for element in for_second_plot:\n",
    "\tlabel, f, g = element[:]\n",
    "\tpplt.scatter(g, f, s = 1, color='k')\n",
    "\tpplt.annotate(label, xy = (g, f), xycoords = 'data', color='r', fontsize = 8)\n",
    "\n",
    "pplt.annotate('good', xy = (0.05, 0.05), xycoords = 'axes fraction', fontsize = 10)\n",
    "pplt.annotate('bad', xy = (0.85, 0.85), xycoords = 'axes fraction', fontsize = 10)\n",
    "pplt.xlabel('Runtime [s]', fontsize = 12)\n",
    "pplt.xscale('log')\n",
    "pplt.yscale('log')\n",
    "pplt.ylabel('(1 - Accuracy) [$\\%$/100]', fontsize = 12)\n",
    "pplt.title('Evaluating CNN Performance', fontsize = 12)\n",
    "pplt.tight_layout()"
   ]
  },
  {
   "cell_type": "code",
   "execution_count": null,
   "metadata": {},
   "outputs": [],
   "source": []
  }
 ],
 "metadata": {
  "kernelspec": {
   "display_name": "Python 3",
   "language": "python",
   "name": "python3"
  },
  "language_info": {
   "codemirror_mode": {
    "name": "ipython",
    "version": 3
   },
   "file_extension": ".py",
   "mimetype": "text/x-python",
   "name": "python",
   "nbconvert_exporter": "python",
   "pygments_lexer": "ipython3",
   "version": "3.7.0"
  }
 },
 "nbformat": 4,
 "nbformat_minor": 2
}
