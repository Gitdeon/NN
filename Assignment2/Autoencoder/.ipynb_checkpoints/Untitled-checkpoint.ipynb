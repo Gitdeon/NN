{
 "cells": [
  {
   "cell_type": "code",
   "execution_count": null,
   "metadata": {},
   "outputs": [],
   "source": [
    "#Import and prepare layers\n",
    "\n",
    "import tensorflow as tf\n",
    "import numpy as np\n",
    "import matplotlib.pyplot as plt\n",
    "\n",
    "training_set = np.loadtxt('data/fashion-mnist_train.csv', delimiter=',', skiprows=1)[:,1:]\n",
    "test_set = np.loadtxt('data/fashion-mnist_test.csv', delimiter=',', skiprows=1)[:,1:]\n",
    "\n",
    "#encoding\n",
    "n_nodes_input = 784 \n",
    "n_nodes_hidden1  = 32\n",
    "\n",
    "#decoding\n",
    "n_nodes_hidden2  = 32\n",
    "n_nodes_output = 784 \n",
    "\n",
    "hidden1_values = {\n",
    "      'weights':tf.Variable(tf.random_normal([n_nodes_input,n_nodes_hidden1])),\n",
    "      'biases':tf.Variable(tf.random_normal([n_nodes_hidden1]))  }\n",
    "hidden2_values = {\n",
    "      'weights':tf.Variable(tf.random_normal([n_nodes_hidden1, n_nodes_hidden2])),\n",
    "   'biases':tf.Variable(tf.random_normal([n_nodes_hidden2]))  }\n",
    "output_values = {\n",
    "      'weights':tf.Variable(tf.random_normal([n_nodes_hidden2,n_nodes_output])),               \n",
    "      'biases':tf.Variable(tf.random_normal([n_nodes_output])) }"
   ]
  },
  {
   "cell_type": "code",
   "execution_count": null,
   "metadata": {},
   "outputs": [],
   "source": [
    "# image with shape 784 goes in\n",
    "input_layer = tf.placeholder('float', [None, 784])\n",
    "\n",
    "# multiply output of input_layer wth a weight matrix and add biases\n",
    "layer_1 = tf.nn.sigmoid(\n",
    "       tf.add(tf.matmul(input_layer,hidden1_values['weights']),\n",
    "       hidden1_values['biases']))\n",
    "\n",
    "# multiply output of layer_1 wth a weight matrix and add biases\n",
    "layer_2 = tf.nn.sigmoid(\n",
    "       tf.add(tf.matmul(layer_1,hidden2_values['weights']),\n",
    "       hidden2_values['biases']))\n",
    "\n",
    "# multiply output of layer_2 wth a weight matrix and add biases\n",
    "output_layer = tf.matmul(layer_2,output_values['weights']) + output_values['biases']\n",
    "\n",
    "# output_true shall have the original image for error calculations\n",
    "output_true = tf.placeholder('float', [None, 784])\n",
    "\n",
    "# define our cost function\n",
    "meansq = tf.reduce_mean(tf.square(output_layer - output_true))\n",
    "\n",
    "# define our optimizer\n",
    "learn_rate = 0.1   # how fast the model should learn\n",
    "optimizer = tf.train.AdagradOptimizer(learn_rate).minimize(meansq)\n",
    "\n",
    "# initializing and starting the session\n",
    "init = tf.global_variables_initializer()\n",
    "sess = tf.Session()\n",
    "sess.run(init)\n",
    "\n",
    "# defining batch size, number of epochs and learning rate\n",
    "batch_size = 100  # how many images to use together for training\n",
    "hm_epochs =100    # how many times to go through the entire dataset\n",
    "tot_images = 60000 # total number of images"
   ]
  },
  {
   "cell_type": "code",
   "execution_count": null,
   "metadata": {},
   "outputs": [],
   "source": [
    "# running the model for a 1000 epochs taking 100 images in batches\n",
    "# total improvement is printed out after each epoch\n",
    "for epoch in range(hm_epochs):\n",
    "    epoch_loss = 0    # initializing error as 0\n",
    "    for i in range(int(tot_images/batch_size)):\n",
    "        epoch_x = training_set[ i*batch_size : (i+1)*batch_size ]\n",
    "        _, c = sess.run([optimizer, meansq],\\\n",
    "               feed_dict={input_layer: epoch_x, \\\n",
    "               output_true: epoch_x})\n",
    "        epoch_loss += c\n",
    "    print('Epoch', epoch, '/', hm_epochs, 'loss:',epoch_loss)\n",
    "    \n",
    "any_image = test_set[0]\n",
    "output_any_image = sess.run(output_layer, feed_dict={input_layer:[any_image]})\n",
    "encoded_any_image = sess.run(layer_1, feed_dict={input_layer:[any_image]})\n",
    "plt.imshow(any_image.reshape(28,28),  cmap='Greys')\n",
    "plt.imshow(output_any_image.reshape(28,28),  cmap='Greys')\n",
    "\n",
    "print(encoded_any_image)\n"
   ]
  }
 ],
 "metadata": {
  "kernelspec": {
   "display_name": "Python 3",
   "language": "python",
   "name": "python3"
  },
  "language_info": {
   "codemirror_mode": {
    "name": "ipython",
    "version": 3
   },
   "file_extension": ".py",
   "mimetype": "text/x-python",
   "name": "python",
   "nbconvert_exporter": "python",
   "pygments_lexer": "ipython3",
   "version": "3.7.0"
  }
 },
 "nbformat": 4,
 "nbformat_minor": 2
}
