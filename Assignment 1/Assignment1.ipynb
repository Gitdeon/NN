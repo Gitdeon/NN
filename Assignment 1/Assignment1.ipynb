{
 "cells": [
  {
   "cell_type": "code",
   "execution_count": 1,
   "metadata": {
    "collapsed": false
   },
   "outputs": [],
   "source": [
    "import numpy as np\n",
    "import matplotlib.pyplot as plt\n",
    "import matplotlib.cm as cm\n",
    "import random\n",
    "import itertools\n",
    "\n",
    "%matplotlib inline"
   ]
  },
  {
   "cell_type": "code",
   "execution_count": 2,
   "metadata": {
    "collapsed": false
   },
   "outputs": [],
   "source": [
    "train_in = np.genfromtxt('/Users/BrianTCook/Desktop/NeuralNetworks/data/train_in.csv', delimiter=',')\n",
    "train_out = np.genfromtxt('/Users/BrianTCook/Desktop/NeuralNetworks/data/train_out.csv', delimiter=',')\n",
    "test_in = np.genfromtxt('/Users/BrianTCook/Desktop/NeuralNetworks/data/test_in.csv', delimiter=',')\n",
    "test_out = np.genfromtxt('/Users/BrianTCook/Desktop/NeuralNetworks/data/test_out.csv', delimiter=',')"
   ]
  },
  {
   "cell_type": "markdown",
   "metadata": {},
   "source": [
    "<b>Task 1</b>"
   ]
  },
  {
   "cell_type": "code",
   "execution_count": 3,
   "metadata": {
    "collapsed": false
   },
   "outputs": [
    {
     "name": "stdout",
     "output_type": "stream",
     "text": [
      "hardest to separate are (7, 9)\n",
      "easiest to separate are (0, 1)\n"
     ]
    }
   ],
   "source": [
    "rows, columns = train_in.shape\n",
    "\n",
    "train_in_vectors = [train_in[i,:] for i in range(rows)]\n",
    "actual_numbers = [int(train_out[i]) for i in range(rows)]\n",
    "\n",
    "storing_vectors = [[] for j in range(10)]\n",
    "centers = [[] for j in range(10)]\n",
    "\n",
    "#matching train_in and train_out\n",
    "for i in range(rows):\n",
    "    j = actual_numbers[i]\n",
    "    into_j_bin = storing_vectors[j]\n",
    "    into_j_bin.append(train_in_vectors[i])\n",
    "    \n",
    "#determining how many points there are in each cloud C_{d}\n",
    "instances_of_each_number = [len(storing_vectors[j]) for j in range(10)]\n",
    "    \n",
    "#find the cloud centers for d = 0, 1, ..., 9\n",
    "for j in range(10):\n",
    "    set_of_vectors = storing_vectors[j]\n",
    "    N = len(set_of_vectors)\n",
    "    center = np.zeros((columns))\n",
    "    \n",
    "    for vector in set_of_vectors:\n",
    "        center += vector\n",
    "    center = center/float(N)\n",
    "    \n",
    "    centers[j] = center\n",
    "    \n",
    "distances_storage = [[] for j in range(10)]\n",
    "    \n",
    "def distance(a,b):\n",
    "    distancesquared = 0\n",
    "    for k in range(len(a)):\n",
    "        distancesquared += (a[k]-b[k])**2\n",
    "    return np.sqrt(distancesquared)\n",
    "    \n",
    "#finding the distances from each cloud center\n",
    "for j in range(10):\n",
    "    center = centers[j]\n",
    "    distance_storage = distances_storage[j]\n",
    "    for vector in storing_vectors[j]:\n",
    "        dist = distance(vector, center)\n",
    "        distance_storage.append(dist)\n",
    "\n",
    "#finding the radii of each cloud\n",
    "\n",
    "radii = [[] for j in range(10)]\n",
    "\n",
    "for j in range(10):\n",
    "    radii[j] = max(distances_storage[j])\n",
    "    \n",
    "#calculating the distance between cloud centers (0,1 and 0,2 and so on)\n",
    "indexpairs = []\n",
    "separations = []\n",
    "for j in range(9):\n",
    "    for k in range(j+1, 10):\n",
    "        center1, center2 = centers[j], centers[k]\n",
    "        dist = distance(center1, center2)\n",
    "        indexpairs.append((j,k))\n",
    "        separations.append(dist)\n",
    "        \n",
    "minindex = separations.index(min(separations))\n",
    "maxindex = separations.index(max(separations))\n",
    "\n",
    "print 'hardest to separate are', indexpairs[minindex]\n",
    "print 'easiest to separate are', indexpairs[maxindex]"
   ]
  },
  {
   "cell_type": "markdown",
   "metadata": {
    "collapsed": true
   },
   "source": [
    "<b>Task 2, Training Data</b>"
   ]
  },
  {
   "cell_type": "code",
   "execution_count": 4,
   "metadata": {
    "collapsed": false
   },
   "outputs": [
    {
     "data": {
      "image/png": "[encoded data removed]",
      "text/plain": [
       "<matplotlib.figure.Figure at 0x10c2ca090>"
      ]
     },
     "metadata": {},
     "output_type": "display_data"
    }
   ],
   "source": [
    "classifications = []\n",
    "\n",
    "i = 0\n",
    "while len(classifications) < rows:\n",
    "    vector = train_in_vectors[i]\n",
    "    distances_to_each_center = []\n",
    "    \n",
    "    #find distance to each cloud center\n",
    "    for j in range(10):\n",
    "        distances_to_each_center.append(distance(vector, centers[j]))\n",
    "\n",
    "    #find minimum distance between vector and a cloud center\n",
    "    for j in range(10):\n",
    "        if abs(distances_to_each_center[j] - min(distances_to_each_center)) < 1e-4:\n",
    "            classifications.append(j)\n",
    "    \n",
    "    i += 1\n",
    "\n",
    "c = np.zeros([10,10])\n",
    "for k in range(rows):\n",
    "    i, j = actual_numbers[k], classifications[k]\n",
    "    c[i,j] += 1\n",
    "\n",
    "got_it_right = 0\n",
    "for j in range(10):\n",
    "    got_it_right += c[j,j] \n",
    "    \n",
    "perc_error = str(round(int(rows - got_it_right)/float(rows)*100, 2))\n",
    "    \n",
    "ticks = [0,1,2,3,4,5,6,7,8,9]\n",
    "\n",
    "plt.figure()\n",
    "plt.title('Training Data, Error = %s percent'%perc_error)\n",
    "plt.xlabel('Training Output')\n",
    "plt.ylabel('Classification')\n",
    "plt.xticks(ticks)\n",
    "plt.yticks(ticks)\n",
    "plt.imshow(c, origin = 'lower', interpolation='nearest', aspect = 'equal', cmap='binary')\n",
    "plt.colorbar()\n",
    "    \n",
    "plt.savefig('Task2Training.jpg')"
   ]
  },
  {
   "cell_type": "markdown",
   "metadata": {
    "collapsed": true
   },
   "source": [
    "<b>Task 2, Testing Data</b>"
   ]
  },
  {
   "cell_type": "code",
   "execution_count": 5,
   "metadata": {
    "collapsed": false
   },
   "outputs": [
    {
     "name": "stdout",
     "output_type": "stream",
     "text": [
      "percent error: 19.6 %\n"
     ]
    },
    {
     "data": {
      "image/png": "[encoded data removed]",
      "text/plain": [
       "<matplotlib.figure.Figure at 0x10c395950>"
      ]
     },
     "metadata": {},
     "output_type": "display_data"
    }
   ],
   "source": [
    "classifications = []\n",
    "\n",
    "rows, columns = test_in.shape\n",
    "test_in_vectors = [test_in[i,:] for i in range(rows)]\n",
    "actual_numbers = [int(test_out[i]) for i in range(rows)]\n",
    "\n",
    "i = 0\n",
    "while len(classifications) < rows:\n",
    "    vector = test_in_vectors[i]\n",
    "    distances_to_each_center = []\n",
    "    \n",
    "    #find distance to each cloud center\n",
    "    for j in range(10):\n",
    "        distances_to_each_center.append(distance(vector, centers[j]))\n",
    "\n",
    "    #find minimum distance between vector and a cloud center\n",
    "    for j in range(10):\n",
    "        if abs(distances_to_each_center[j] - min(distances_to_each_center)) < 1e-4:\n",
    "            classifications.append(j)\n",
    "    \n",
    "    i += 1\n",
    "\n",
    "c = np.zeros([10,10])\n",
    "for k in range(rows):\n",
    "    i, j = actual_numbers[k], classifications[k]\n",
    "    c[i,j] += 1\n",
    "\n",
    "got_it_right = 0\n",
    "for j in range(10):\n",
    "    got_it_right += c[j,j] \n",
    "    \n",
    "perc_error = str(round(int(rows - got_it_right)/float(rows)*100, 2))\n",
    "    \n",
    "ticks = [0,1,2,3,4,5,6,7,8,9]\n",
    "\n",
    "plt.figure()\n",
    "plt.title('Testing Data, Error = %s percent'%perc_error)\n",
    "plt.xlabel('Training Output')\n",
    "plt.ylabel('Classification')\n",
    "plt.xticks(ticks)\n",
    "plt.yticks(ticks)\n",
    "plt.imshow(c, origin = 'lower', interpolation='nearest', aspect = 'equal', cmap='binary')\n",
    "plt.colorbar()\n",
    "    \n",
    "print 'percent error:', round(int(rows - got_it_right)/float(rows)*100, 2), '%'\n",
    "plt.savefig('Task2Testing.jpg')"
   ]
  },
  {
   "cell_type": "code",
   "execution_count": null,
   "metadata": {
    "collapsed": true
   },
   "outputs": [],
   "source": []
  }
 ],
 "metadata": {
  "kernelspec": {
   "display_name": "Python 2",
   "language": "python",
   "name": "python2"
  },
  "language_info": {
   "codemirror_mode": {
    "name": "ipython",
    "version": 2
   },
   "file_extension": ".py",
   "mimetype": "text/x-python",
   "name": "python",
   "nbconvert_exporter": "python",
   "pygments_lexer": "ipython2",
   "version": "2.7.11"
  }
 },
 "nbformat": 4,
 "nbformat_minor": 0
}
